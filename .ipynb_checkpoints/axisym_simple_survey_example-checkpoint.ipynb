{
 "cells": [
  {
   "cell_type": "code",
   "execution_count": null,
   "metadata": {
    "collapsed": false
   },
   "outputs": [],
   "source": [
    "import scda\n",
    "import pprint\n",
    "import logging\n",
    "import os\n",
    "import numpy as np\n",
    "scda.configure_log()\n",
    "\n",
    "% matplotlib inline\n",
    "import matplotlib.pyplot as plt\n",
    "\n",
    "import scipy.special"
   ]
  },
  {
   "cell_type": "markdown",
   "metadata": {},
   "source": [
    "## Prepare a design survey test to run as serial bash script"
   ]
  },
  {
   "cell_type": "code",
   "execution_count": null,
   "metadata": {
    "collapsed": false
   },
   "outputs": [],
   "source": [
    "survey_params = {'Pupil': { 'centobs': [9], 'N': 500 },\n",
    "                 'FPM': { 'R': [4.0,5.0], 'fpmres':100 },\n",
    "                 'LS': { 'id':[13], 'od':[92] },\n",
    "                 'Image': { 'c':10., 'owa':12., 'dR':-0.1, 'bw':0.103, 'fpres':3, 'Nlam':4}}"
   ]
  },
  {
   "cell_type": "code",
   "execution_count": null,
   "metadata": {
    "collapsed": false
   },
   "outputs": [],
   "source": [
    "#survey_dir = os.path.expanduser(\"/Users/kstlaurent/git/SCDA_nonlinear_tests/\")\n",
    "survey_dir = os.path.expanduser(\"/astro/opticslab1/AMPL/SCDA/nonlinear_testing/\")\n",
    "if not os.path.exists(survey_dir):\n",
    "    os.mkdir(survey_dir)\n",
    "    print(\"Created survey directory {:s}\".format(survey_dir))\n",
    "else:\n",
    "    print(\"The survey directory {:s} already exists\".format(survey_dir))\n",
    "\n",
    "os.chdir(survey_dir)\n",
    "survey_fname = os.path.basename(survey_dir)\n",
    "ampl_src_dir = os.path.normpath(\"./amplsrc\")\n",
    "sol_dir = os.path.normpath(\"./solutions\")\n",
    "log_dir = os.path.normpath(\"./logs\")\n",
    "\n",
    "fileorg = {'work dir':'.', 'ampl src dir':ampl_src_dir,\n",
    "           'log dir':log_dir, 'sol dir':sol_dir}"
   ]
  },
  {
   "cell_type": "markdown",
   "metadata": {},
   "source": [
    "## Initiate a survey object with the above parameter combinations "
   ]
  },
  {
   "cell_type": "code",
   "execution_count": null,
   "metadata": {
    "collapsed": false
   },
   "outputs": [],
   "source": [
    "axisym_demo_survey = scda.DesignParamSurvey(scda.AxisymAPLC, survey_params,\n",
    "                                            fileorg=fileorg,\n",
    "                                            solver={'method': 'dualsimp', 'presolve':True})"
   ]
  },
  {
   "cell_type": "code",
   "execution_count": null,
   "metadata": {
    "collapsed": false
   },
   "outputs": [],
   "source": [
    "os.getcwd()"
   ]
  },
  {
   "cell_type": "code",
   "execution_count": null,
   "metadata": {
    "collapsed": false
   },
   "outputs": [],
   "source": [
    "axisym_demo_survey.describe()"
   ]
  },
  {
   "cell_type": "markdown",
   "metadata": {},
   "source": [
    "## Write the batch of AMPL files"
   ]
  },
  {
   "cell_type": "code",
   "execution_count": null,
   "metadata": {
    "collapsed": false
   },
   "outputs": [],
   "source": [
    "axisym_demo_survey.write_ampl_batch(overwrite=True)"
   ]
  },
  {
   "cell_type": "code",
   "execution_count": null,
   "metadata": {
    "collapsed": false
   },
   "outputs": [],
   "source": [
    "axisym_demo_survey.write_serial_bash(overwrite=True)"
   ]
  },
  {
   "cell_type": "markdown",
   "metadata": {},
   "source": [
    "# STOP, run the AMPL scripts"
   ]
  },
  {
   "cell_type": "markdown",
   "metadata": {},
   "source": [
    "## Write tables summarizing the design survey configuration and status to a spreadsheet"
   ]
  },
  {
   "cell_type": "code",
   "execution_count": null,
   "metadata": {
    "collapsed": false
   },
   "outputs": [],
   "source": [
    "for coron in axisym_demo_survey.coron_list:\n",
    "    coron.get_metrics()"
   ]
  },
  {
   "cell_type": "code",
   "execution_count": null,
   "metadata": {
    "collapsed": false
   },
   "outputs": [],
   "source": [
    "axisym_demo_survey.write_spreadsheet()"
   ]
  },
  {
   "cell_type": "markdown",
   "metadata": {},
   "source": [
    "## Evaluate an individual design"
   ]
  },
  {
   "cell_type": "code",
   "execution_count": null,
   "metadata": {
    "collapsed": true
   },
   "outputs": [],
   "source": [
    "test_coron = axisym_demo_survey.coron_list[0] "
   ]
  },
  {
   "cell_type": "code",
   "execution_count": null,
   "metadata": {
    "collapsed": false
   },
   "outputs": [],
   "source": [
    "N = test_coron.design['Pupil']['N']\n",
    "M = test_coron.design['FPM']['M']\n",
    "FPMrad = test_coron.design['FPM']['R']\n",
    "fpmres = test_coron.design['FPM']['fpmres']\n",
    "\n",
    "Nimg = test_coron.design['Image']['Nimg']\n",
    "#fp2res = test_coron.design['Image']['fpres']\n",
    "fp2res = 16\n",
    "owa = test_coron.design['Image']['owa']\n",
    "owa_eval = owa + 2\n",
    "Nrho = np.int(np.ceil(owa_eval * fp2res))\n",
    "\n",
    "dr = 0.5 / N\n",
    "dmr = 1. / fpmres\n",
    "\n",
    "bw = test_coron.design['Image']['bw']\n",
    "Nlam = 5\n",
    "wrs = np.linspace(1.-bw/2, 1.+bw/2, Nlam)"
   ]
  },
  {
   "cell_type": "code",
   "execution_count": null,
   "metadata": {
    "collapsed": false
   },
   "outputs": [],
   "source": [
    "rs = np.matrix(np.loadtxt(test_coron.fileorg['sol fname'])[:,0]).T\n",
    "mrs = np.matrix((np.arange(M) + 0.5) / M * FPMrad).T\n",
    "rhos = np.matrix(np.arange(Nrho) * 1./fp2res).T\n",
    "\n",
    "TelAp = rs*0.\n",
    "TelAp[(rs[:,0] > test_coron.design['Pupil']['centobs']*0.5/100)] = 1\n",
    "\n",
    "Apod = np.matrix(np.loadtxt(test_coron.fileorg['sol fname'])[:,1]).T\n",
    "\n",
    "LS = rs*0.\n",
    "LS[((rs > test_coron.design['LS']['id']*0.5/100) & \\\n",
    "    (rs < test_coron.design['LS']['od']*0.5/100))] = 1"
   ]
  },
  {
   "cell_type": "code",
   "execution_count": null,
   "metadata": {
    "collapsed": false
   },
   "outputs": [],
   "source": [
    "plt.figure(figsize=(16,8))\n",
    "plt.plot(rs, Apod)\n",
    "plt.plot(rs, LS)\n",
    "plt.plot(rs, TelAp)"
   ]
  },
  {
   "cell_type": "code",
   "execution_count": null,
   "metadata": {
    "collapsed": false
   },
   "outputs": [],
   "source": [
    "E_fpm = 2*np.pi*dr * scipy.special.jn(0, 2*np.pi*mrs*rs.T) * np.multiply(rs, Apod)\n",
    "E_LS = Apod - 2*np.pi*dmr * scipy.special.jn(0, 2*np.pi*rs*mrs.T) * np.multiply(mrs, E_fpm)\n",
    "E_LS_stop = np.multiply(E_LS, LS)\n",
    "E_fp2 = 2*np.pi*dr * scipy.special.jn(0, 2*np.pi*rhos*rs.T) * np.multiply(rs, E_LS_stop)"
   ]
  },
  {
   "cell_type": "code",
   "execution_count": null,
   "metadata": {
    "collapsed": true
   },
   "outputs": [],
   "source": [
    "E_unocc = 2*np.pi*dr * scipy.special.jn(0, 2*np.pi*rhos*rs.T) * np.multiply(rs, np.multiply(Apod, LS))"
   ]
  },
  {
   "cell_type": "code",
   "execution_count": null,
   "metadata": {
    "collapsed": false
   },
   "outputs": [],
   "source": [
    "E_unocc_peak = 2*np.pi*dr*rs.T*np.multiply(Apod, LS)\n",
    "print(E_unocc_peak**2)"
   ]
  },
  {
   "cell_type": "code",
   "execution_count": null,
   "metadata": {
    "collapsed": false
   },
   "outputs": [],
   "source": [
    "(np.pi/4)**2"
   ]
  },
  {
   "cell_type": "code",
   "execution_count": null,
   "metadata": {
    "collapsed": false
   },
   "outputs": [],
   "source": [
    "plt.plot(rhos, np.power(np.abs(E_unocc),2))"
   ]
  },
  {
   "cell_type": "code",
   "execution_count": null,
   "metadata": {
    "collapsed": false
   },
   "outputs": [],
   "source": [
    "rhos, scda_intens = test_coron.get_onax_psf(Nlam=5)"
   ]
  },
  {
   "cell_type": "code",
   "execution_count": null,
   "metadata": {
    "collapsed": false
   },
   "outputs": [],
   "source": [
    "plt.plot(rhos, np.log10(np.mean(scda_intens, axis=0)))\n",
    "plt.vlines(FPMrad, -100, 100, linestyle='--', color='gray')\n",
    "plt.vlines(owa, -100, 100, linestyle='--', color='gray')\n",
    "plt.ylim([-12, -6])\n",
    "\n",
    "plt.savefig('Baseline.png', dpi=100)"
   ]
  }
 ],
 "metadata": {
  "anaconda-cloud": {},
  "kernelspec": {
   "display_name": "Python [default]",
   "language": "python",
   "name": "python2"
  },
  "language_info": {
   "codemirror_mode": {
    "name": "ipython",
    "version": 2
   },
   "file_extension": ".py",
   "mimetype": "text/x-python",
   "name": "python",
   "nbconvert_exporter": "python",
   "pygments_lexer": "ipython2",
   "version": "2.7.13"
  }
 },
 "nbformat": 4,
 "nbformat_minor": 2
}
